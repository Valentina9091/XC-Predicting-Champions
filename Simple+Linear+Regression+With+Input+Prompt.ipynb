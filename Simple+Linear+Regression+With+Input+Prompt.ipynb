{
 "cells": [
  {
   "cell_type": "markdown",
   "metadata": {},
   "source": [
    "<h3>This model for the XC Data uses linear regression - a simple and basic tool for prediction</h3>\n",
    "\n",
    "<p>Why linear regression?</p>\n",
    "<p><ul><li>\n",
    "\n",
    "    widely used\n",
    "    <li>runs fast\n",
    "    <li>easy to use (no tuning is required)\n",
    "    <li>highly interpretable\n",
    "    <li>basis for many other methods\n",
    "    </ul></p>\n",
    "    <p> The library used is Sci-kit Learn which facilitates general purpose machine learning in Python.</p>\n",
    "    <p> We will be using feature engineering to read in the race results (times) for a particular runner and format them depending on the number of results we want to use for training our model in a sliding window.  Here is some terminology:\n",
    "    <ul>\n",
    "    <li>Date Time Features: these are components of the time step itself for each observation.\n",
    "    <li>Lag Features: these are values at prior time steps.\n",
    "    <li>Window Features: these are a summary of values over a fixed window of prior time steps - we will enter the size.</ul></p>\n",
    "    \n",
    "    \n",
    "\n",
    "\n",
    "\n"
   ]
  },
  {
   "cell_type": "markdown",
   "metadata": {},
   "source": [
    "<h3>Evaluation Metrics</h3><p>\n",
    "\n",
    "We will use the Mean Absolute Percentage Error (MAPE). It is a metric widely used in the field of time series forecasting, and refers to the average percentage of errors in the forecasts, disregarding the direction (above or below the true value).\n",
    "</p><p>\n",
    "In addition to this error, we will also evaluate the Mean Absolute Error (MAE), which is the mean of the absolute values of the errors. This way we know how much we are deviating from the real values in the original units.  As a comparison, we will also show the Error from the Last month value where the forecast for the next month is just the value of the variable in the last month and the Moving Average Error where the forecast for the next month is the average of the last X times (based on window or forecast size).\n",
    "</p><p>\n",
    "From a practical standpoint, in order to justify the use of linear regression instead of simpler methods, it should present an average error smaller than the error of the other options.</p>"
   ]
  },
  {
   "cell_type": "markdown",
   "metadata": {},
   "source": [
    "<h3>You will be prompted to enter a runner id</h3><p>This will import all times available (data) from the complete file of XC times</p>"
   ]
  },
  {
   "cell_type": "code",
   "execution_count": 2,
   "metadata": {},
   "outputs": [
    {
     "data": {
      "text/html": [
       "<div>\n",
       "<style>\n",
       "    .dataframe thead tr:only-child th {\n",
       "        text-align: right;\n",
       "    }\n",
       "\n",
       "    .dataframe thead th {\n",
       "        text-align: left;\n",
       "    }\n",
       "\n",
       "    .dataframe tbody tr th {\n",
       "        vertical-align: top;\n",
       "    }\n",
       "</style>\n",
       "<table border=\"1\" class=\"dataframe\">\n",
       "  <thead>\n",
       "    <tr style=\"text-align: right;\">\n",
       "      <th></th>\n",
       "      <th>ID1</th>\n",
       "      <th>ID</th>\n",
       "      <th>RunnerID</th>\n",
       "      <th>first</th>\n",
       "      <th>last</th>\n",
       "      <th>school</th>\n",
       "      <th>class_status_cat</th>\n",
       "      <th>class_status_num</th>\n",
       "      <th>time_sec</th>\n",
       "      <th>time_dec_min</th>\n",
       "      <th>...</th>\n",
       "      <th>county</th>\n",
       "      <th>ELEVATION</th>\n",
       "      <th>LATITUDE</th>\n",
       "      <th>LONGITUDE</th>\n",
       "      <th>HOURLYDRYBULBTEMPF</th>\n",
       "      <th>HOURLYRelativeHumidity</th>\n",
       "      <th>year</th>\n",
       "      <th>Temp_Celcius</th>\n",
       "      <th>Elevation_Cat</th>\n",
       "      <th>Dew_Point_Cat</th>\n",
       "    </tr>\n",
       "  </thead>\n",
       "  <tbody>\n",
       "    <tr>\n",
       "      <th>0</th>\n",
       "      <td>1</td>\n",
       "      <td>42776</td>\n",
       "      <td>185469</td>\n",
       "      <td>Justin</td>\n",
       "      <td>Swink</td>\n",
       "      <td>West Forsyth</td>\n",
       "      <td>Junior</td>\n",
       "      <td>3</td>\n",
       "      <td>1139.4</td>\n",
       "      <td>18.99</td>\n",
       "      <td>...</td>\n",
       "      <td>Guilford</td>\n",
       "      <td>271.3</td>\n",
       "      <td>36.09690</td>\n",
       "      <td>-79.94320</td>\n",
       "      <td>81.0</td>\n",
       "      <td>54.0</td>\n",
       "      <td>2010.0</td>\n",
       "      <td>27.22222222</td>\n",
       "      <td>2.0</td>\n",
       "      <td>3.0</td>\n",
       "    </tr>\n",
       "    <tr>\n",
       "      <th>1</th>\n",
       "      <td>2</td>\n",
       "      <td>46744</td>\n",
       "      <td>185469</td>\n",
       "      <td>Justin</td>\n",
       "      <td>Swink</td>\n",
       "      <td>West Forsyth</td>\n",
       "      <td>Junior</td>\n",
       "      <td>3</td>\n",
       "      <td>1025.0</td>\n",
       "      <td>17.08</td>\n",
       "      <td>...</td>\n",
       "      <td>New Hanover</td>\n",
       "      <td>10.1</td>\n",
       "      <td>34.26750</td>\n",
       "      <td>-77.89970</td>\n",
       "      <td>75.0</td>\n",
       "      <td>69.0</td>\n",
       "      <td>2010.0</td>\n",
       "      <td>23.88888889</td>\n",
       "      <td>1.0</td>\n",
       "      <td>3.0</td>\n",
       "    </tr>\n",
       "    <tr>\n",
       "      <th>2</th>\n",
       "      <td>3</td>\n",
       "      <td>57289</td>\n",
       "      <td>185469</td>\n",
       "      <td>Justin</td>\n",
       "      <td>Swink</td>\n",
       "      <td>West Forsyth</td>\n",
       "      <td>Junior</td>\n",
       "      <td>3</td>\n",
       "      <td>1038.9</td>\n",
       "      <td>17.32</td>\n",
       "      <td>...</td>\n",
       "      <td>Forsyth</td>\n",
       "      <td>295.7</td>\n",
       "      <td>36.13361</td>\n",
       "      <td>-80.22222</td>\n",
       "      <td>58.0</td>\n",
       "      <td>41.0</td>\n",
       "      <td>2010.0</td>\n",
       "      <td>14.44444444</td>\n",
       "      <td>2.0</td>\n",
       "      <td>1.0</td>\n",
       "    </tr>\n",
       "    <tr>\n",
       "      <th>3</th>\n",
       "      <td>4</td>\n",
       "      <td>59824</td>\n",
       "      <td>185469</td>\n",
       "      <td>Justin</td>\n",
       "      <td>Swink</td>\n",
       "      <td>West Forsyth</td>\n",
       "      <td>Junior</td>\n",
       "      <td>3</td>\n",
       "      <td>1066.0</td>\n",
       "      <td>17.77</td>\n",
       "      <td>...</td>\n",
       "      <td>Forsyth</td>\n",
       "      <td>295.7</td>\n",
       "      <td>36.13361</td>\n",
       "      <td>-80.22222</td>\n",
       "      <td>50.0</td>\n",
       "      <td>54.0</td>\n",
       "      <td>2010.0</td>\n",
       "      <td>10</td>\n",
       "      <td>2.0</td>\n",
       "      <td>1.0</td>\n",
       "    </tr>\n",
       "    <tr>\n",
       "      <th>4</th>\n",
       "      <td>5</td>\n",
       "      <td>62272</td>\n",
       "      <td>185469</td>\n",
       "      <td>Justin</td>\n",
       "      <td>Swink</td>\n",
       "      <td>West Forsyth</td>\n",
       "      <td>Junior</td>\n",
       "      <td>3</td>\n",
       "      <td>1064.0</td>\n",
       "      <td>17.73</td>\n",
       "      <td>...</td>\n",
       "      <td>Mecklenburg</td>\n",
       "      <td>221.9</td>\n",
       "      <td>35.22360</td>\n",
       "      <td>-80.95520</td>\n",
       "      <td>45.0</td>\n",
       "      <td>35.0</td>\n",
       "      <td>2010.0</td>\n",
       "      <td>7.222222222</td>\n",
       "      <td>1.0</td>\n",
       "      <td>1.0</td>\n",
       "    </tr>\n",
       "  </tbody>\n",
       "</table>\n",
       "<p>5 rows × 32 columns</p>\n",
       "</div>"
      ],
      "text/plain": [
       "   ID1     ID RunnerID   first   last        school class_status_cat  \\\n",
       "0    1  42776   185469  Justin  Swink  West Forsyth           Junior   \n",
       "1    2  46744   185469  Justin  Swink  West Forsyth           Junior   \n",
       "2    3  57289   185469  Justin  Swink  West Forsyth           Junior   \n",
       "3    4  59824   185469  Justin  Swink  West Forsyth           Junior   \n",
       "4    5  62272   185469  Justin  Swink  West Forsyth           Junior   \n",
       "\n",
       "   class_status_num  time_sec  time_dec_min      ...            county  \\\n",
       "0                 3    1139.4         18.99      ...          Guilford   \n",
       "1                 3    1025.0         17.08      ...       New Hanover   \n",
       "2                 3    1038.9         17.32      ...           Forsyth   \n",
       "3                 3    1066.0         17.77      ...           Forsyth   \n",
       "4                 3    1064.0         17.73      ...       Mecklenburg   \n",
       "\n",
       "  ELEVATION  LATITUDE LONGITUDE HOURLYDRYBULBTEMPF HOURLYRelativeHumidity  \\\n",
       "0     271.3  36.09690 -79.94320               81.0                   54.0   \n",
       "1      10.1  34.26750 -77.89970               75.0                   69.0   \n",
       "2     295.7  36.13361 -80.22222               58.0                   41.0   \n",
       "3     295.7  36.13361 -80.22222               50.0                   54.0   \n",
       "4     221.9  35.22360 -80.95520               45.0                   35.0   \n",
       "\n",
       "     year Temp_Celcius Elevation_Cat Dew_Point_Cat  \n",
       "0  2010.0  27.22222222           2.0           3.0  \n",
       "1  2010.0  23.88888889           1.0           3.0  \n",
       "2  2010.0  14.44444444           2.0           1.0  \n",
       "3  2010.0           10           2.0           1.0  \n",
       "4  2010.0  7.222222222           1.0           1.0  \n",
       "\n",
       "[5 rows x 32 columns]"
      ]
     },
     "execution_count": 2,
     "metadata": {},
     "output_type": "execute_result"
    }
   ],
   "source": [
    "from sklearn.metrics import mean_absolute_error\n",
    "import numpy as np\n",
    "import pandas as pd\n",
    "from sklearn.linear_model import LinearRegression\n",
    "from sklearn.cross_validation import train_test_split\n",
    "from sklearn import metrics\n",
    "import statsmodels.formula.api as smf\n",
    "\n",
    "import warnings\n",
    "warnings.filterwarnings('ignore')\n",
    "#The entire file is read\n",
    "#This can be more efficient by removing features that this program does not use\n",
    "data = pd.read_csv('C:/SUMMER-2/ML/Data/Boys_XC_All_Years_Dates_Times.csv',header=0, low_memory=False)\n",
    "\n",
    "data.head()\n"
   ]
  },
  {
   "cell_type": "markdown",
   "metadata": {},
   "source": [
    "<h3>How many total race results do we have for this runner?</h3>"
   ]
  },
  {
   "cell_type": "code",
   "execution_count": 3,
   "metadata": {},
   "outputs": [
    {
     "name": "stdout",
     "output_type": "stream",
     "text": [
      "enter the runner's first name  collin\n",
      "enter the runner's last name  hague\n",
      "25\n"
     ]
    },
    {
     "data": {
      "text/html": [
       "<div>\n",
       "<style>\n",
       "    .dataframe thead tr:only-child th {\n",
       "        text-align: right;\n",
       "    }\n",
       "\n",
       "    .dataframe thead th {\n",
       "        text-align: left;\n",
       "    }\n",
       "\n",
       "    .dataframe tbody tr th {\n",
       "        vertical-align: top;\n",
       "    }\n",
       "</style>\n",
       "<table border=\"1\" class=\"dataframe\">\n",
       "  <thead>\n",
       "    <tr style=\"text-align: right;\">\n",
       "      <th></th>\n",
       "      <th>RunnerID</th>\n",
       "      <th>first</th>\n",
       "      <th>last</th>\n",
       "      <th>time_sec</th>\n",
       "    </tr>\n",
       "  </thead>\n",
       "  <tbody>\n",
       "    <tr>\n",
       "      <th>23509</th>\n",
       "      <td>2172374</td>\n",
       "      <td>Collin</td>\n",
       "      <td>Hague</td>\n",
       "      <td>1187.5</td>\n",
       "    </tr>\n",
       "    <tr>\n",
       "      <th>23510</th>\n",
       "      <td>2172374</td>\n",
       "      <td>Collin</td>\n",
       "      <td>Hague</td>\n",
       "      <td>1108.0</td>\n",
       "    </tr>\n",
       "    <tr>\n",
       "      <th>23511</th>\n",
       "      <td>2172374</td>\n",
       "      <td>Collin</td>\n",
       "      <td>Hague</td>\n",
       "      <td>1227.0</td>\n",
       "    </tr>\n",
       "    <tr>\n",
       "      <th>23512</th>\n",
       "      <td>2172374</td>\n",
       "      <td>Collin</td>\n",
       "      <td>Hague</td>\n",
       "      <td>1172.5</td>\n",
       "    </tr>\n",
       "    <tr>\n",
       "      <th>23513</th>\n",
       "      <td>2172374</td>\n",
       "      <td>Collin</td>\n",
       "      <td>Hague</td>\n",
       "      <td>1184.0</td>\n",
       "    </tr>\n",
       "  </tbody>\n",
       "</table>\n",
       "</div>"
      ],
      "text/plain": [
       "      RunnerID   first   last  time_sec\n",
       "23509  2172374  Collin  Hague    1187.5\n",
       "23510  2172374  Collin  Hague    1108.0\n",
       "23511  2172374  Collin  Hague    1227.0\n",
       "23512  2172374  Collin  Hague    1172.5\n",
       "23513  2172374  Collin  Hague    1184.0"
      ]
     },
     "execution_count": 3,
     "metadata": {},
     "output_type": "execute_result"
    }
   ],
   "source": [
    "#sample id 409571\n",
    "#sample id 1039492\n",
    "#id=str(input(\"enter the runner ID  \"))\n",
    "#filterDF=data[data['RunnerID']==id]\n",
    "first_name=str(input(\"enter the runner's first name  \"))\n",
    "last_name=str(input(\"enter the runner's last name  \"))\n",
    "filterDF_first=data[data['first'].str.lower()==first_name.lower()]\n",
    "filterDF= filterDF_first[filterDF_first['last'].str.lower()==last_name.lower()]\n",
    "row_count = len(filterDF.index)\n",
    "print (row_count)\n",
    "filterDF.head()\n",
    "df=filterDF[['RunnerID','first','last','time_sec']]\n",
    "df.head()\n",
    "#print(filterDF['RunnerID'],filterDF['first'],filterDF['last'],filterDF['time_sec'] )\n",
    "#2172374 --grad\n",
    "#2902219"
   ]
  },
  {
   "cell_type": "code",
   "execution_count": 4,
   "metadata": {},
   "outputs": [
    {
     "data": {
      "text/html": [
       "<div>\n",
       "<style>\n",
       "    .dataframe thead tr:only-child th {\n",
       "        text-align: right;\n",
       "    }\n",
       "\n",
       "    .dataframe thead th {\n",
       "        text-align: left;\n",
       "    }\n",
       "\n",
       "    .dataframe tbody tr th {\n",
       "        vertical-align: top;\n",
       "    }\n",
       "</style>\n",
       "<table border=\"1\" class=\"dataframe\">\n",
       "  <thead>\n",
       "    <tr style=\"text-align: right;\">\n",
       "      <th></th>\n",
       "      <th>DATE</th>\n",
       "      <th>time_sec</th>\n",
       "    </tr>\n",
       "  </thead>\n",
       "  <tbody>\n",
       "    <tr>\n",
       "      <th>23509</th>\n",
       "      <td>9/23/2014</td>\n",
       "      <td>1187.5</td>\n",
       "    </tr>\n",
       "    <tr>\n",
       "      <th>23510</th>\n",
       "      <td>9/18/2014</td>\n",
       "      <td>1108.0</td>\n",
       "    </tr>\n",
       "    <tr>\n",
       "      <th>23511</th>\n",
       "      <td>9/3/2014</td>\n",
       "      <td>1227.0</td>\n",
       "    </tr>\n",
       "    <tr>\n",
       "      <th>23512</th>\n",
       "      <td>10/14/2014</td>\n",
       "      <td>1172.5</td>\n",
       "    </tr>\n",
       "    <tr>\n",
       "      <th>23513</th>\n",
       "      <td>9/13/2014</td>\n",
       "      <td>1184.0</td>\n",
       "    </tr>\n",
       "  </tbody>\n",
       "</table>\n",
       "</div>"
      ],
      "text/plain": [
       "             DATE  time_sec\n",
       "23509   9/23/2014    1187.5\n",
       "23510   9/18/2014    1108.0\n",
       "23511    9/3/2014    1227.0\n",
       "23512  10/14/2014    1172.5\n",
       "23513   9/13/2014    1184.0"
      ]
     },
     "execution_count": 4,
     "metadata": {},
     "output_type": "execute_result"
    }
   ],
   "source": [
    "#we need to format the data in date time format\n",
    "modeldata=filterDF.filter(items=['DATE', 'time_sec'])\n",
    "modeldata.head()"
   ]
  },
  {
   "cell_type": "code",
   "execution_count": 5,
   "metadata": {},
   "outputs": [
    {
     "data": {
      "text/html": [
       "<div>\n",
       "<style>\n",
       "    .dataframe thead tr:only-child th {\n",
       "        text-align: right;\n",
       "    }\n",
       "\n",
       "    .dataframe thead th {\n",
       "        text-align: left;\n",
       "    }\n",
       "\n",
       "    .dataframe tbody tr th {\n",
       "        vertical-align: top;\n",
       "    }\n",
       "</style>\n",
       "<table border=\"1\" class=\"dataframe\">\n",
       "  <thead>\n",
       "    <tr style=\"text-align: right;\">\n",
       "      <th></th>\n",
       "      <th>DATE</th>\n",
       "      <th>time_sec</th>\n",
       "    </tr>\n",
       "  </thead>\n",
       "  <tbody>\n",
       "    <tr>\n",
       "      <th>23509</th>\n",
       "      <td>2014-09-23</td>\n",
       "      <td>1187.5</td>\n",
       "    </tr>\n",
       "    <tr>\n",
       "      <th>23510</th>\n",
       "      <td>2014-09-18</td>\n",
       "      <td>1108.0</td>\n",
       "    </tr>\n",
       "    <tr>\n",
       "      <th>23511</th>\n",
       "      <td>2014-09-03</td>\n",
       "      <td>1227.0</td>\n",
       "    </tr>\n",
       "    <tr>\n",
       "      <th>23512</th>\n",
       "      <td>2014-10-14</td>\n",
       "      <td>1172.5</td>\n",
       "    </tr>\n",
       "    <tr>\n",
       "      <th>23513</th>\n",
       "      <td>2014-09-13</td>\n",
       "      <td>1184.0</td>\n",
       "    </tr>\n",
       "  </tbody>\n",
       "</table>\n",
       "</div>"
      ],
      "text/plain": [
       "            DATE  time_sec\n",
       "23509 2014-09-23    1187.5\n",
       "23510 2014-09-18    1108.0\n",
       "23511 2014-09-03    1227.0\n",
       "23512 2014-10-14    1172.5\n",
       "23513 2014-09-13    1184.0"
      ]
     },
     "execution_count": 5,
     "metadata": {},
     "output_type": "execute_result"
    }
   ],
   "source": [
    "modeldata['DATE']=pd.to_datetime(modeldata.DATE)\n",
    "modeldata.head()"
   ]
  },
  {
   "cell_type": "code",
   "execution_count": 6,
   "metadata": {
    "collapsed": true
   },
   "outputs": [],
   "source": [
    "#lets make sure the dates are in order from earliest to latest\n",
    "sortedData=modeldata.sort_values(by='DATE')"
   ]
  },
  {
   "cell_type": "code",
   "execution_count": 7,
   "metadata": {},
   "outputs": [
    {
     "data": {
      "text/html": [
       "<div>\n",
       "<style>\n",
       "    .dataframe thead tr:only-child th {\n",
       "        text-align: right;\n",
       "    }\n",
       "\n",
       "    .dataframe thead th {\n",
       "        text-align: left;\n",
       "    }\n",
       "\n",
       "    .dataframe tbody tr th {\n",
       "        vertical-align: top;\n",
       "    }\n",
       "</style>\n",
       "<table border=\"1\" class=\"dataframe\">\n",
       "  <thead>\n",
       "    <tr style=\"text-align: right;\">\n",
       "      <th></th>\n",
       "      <th>DATE</th>\n",
       "      <th>time_sec</th>\n",
       "    </tr>\n",
       "  </thead>\n",
       "  <tbody>\n",
       "    <tr>\n",
       "      <th>23530</th>\n",
       "      <td>2011-08-23</td>\n",
       "      <td>1341.0</td>\n",
       "    </tr>\n",
       "    <tr>\n",
       "      <th>23533</th>\n",
       "      <td>2011-08-27</td>\n",
       "      <td>1338.0</td>\n",
       "    </tr>\n",
       "    <tr>\n",
       "      <th>23529</th>\n",
       "      <td>2011-09-07</td>\n",
       "      <td>1283.0</td>\n",
       "    </tr>\n",
       "    <tr>\n",
       "      <th>23531</th>\n",
       "      <td>2011-09-17</td>\n",
       "      <td>1174.5</td>\n",
       "    </tr>\n",
       "    <tr>\n",
       "      <th>23528</th>\n",
       "      <td>2011-09-22</td>\n",
       "      <td>1261.5</td>\n",
       "    </tr>\n",
       "  </tbody>\n",
       "</table>\n",
       "</div>"
      ],
      "text/plain": [
       "            DATE  time_sec\n",
       "23530 2011-08-23    1341.0\n",
       "23533 2011-08-27    1338.0\n",
       "23529 2011-09-07    1283.0\n",
       "23531 2011-09-17    1174.5\n",
       "23528 2011-09-22    1261.5"
      ]
     },
     "execution_count": 7,
     "metadata": {},
     "output_type": "execute_result"
    }
   ],
   "source": [
    "data = sortedData\n",
    "data.head()"
   ]
  },
  {
   "cell_type": "code",
   "execution_count": 8,
   "metadata": {},
   "outputs": [
    {
     "data": {
      "image/png": "[encoded data removed]",
      "text/plain": [
       "<matplotlib.figure.Figure at 0x1cec5d79b00>"
      ]
     },
     "metadata": {},
     "output_type": "display_data"
    }
   ],
   "source": [
    "#print chart\n",
    "time=sortedData[['time_sec']].as_matrix()\n",
    "from matplotlib import pyplot as plt\n",
    "plt.title('Runner Times for XC')\n",
    "plt.ylabel('Time in Sec')\n",
    "plt.xlabel(u'Periods (Meets)')\n",
    "true_val, = plt.plot(time,color='g', label='True Values')\n",
    "plt.xlim([0,row_count])\n",
    "plt.legend(handles=[true_val])\n",
    "plt.show()"
   ]
  },
  {
   "cell_type": "code",
   "execution_count": 9,
   "metadata": {},
   "outputs": [
    {
     "name": "stdout",
     "output_type": "stream",
     "text": [
      "Enter the number of race results you want to use for your prediction 2\n"
     ]
    }
   ],
   "source": [
    "##################### function\n",
    "#create the Mean Absolute Percent Error calculation function its not already\n",
    "#available in sci-kit learn\n",
    "def mape(y_pred,y_true):\n",
    "\n",
    "    return np.mean(np.abs((y_true - y_pred) / y_true)) * 100\n",
    "\n",
    "##################### end of function\n",
    "\n",
    "#here we are creating a feature matrix for prediction\n",
    "#you can change the number of races going in to the prediction\n",
    "#x values are the values used for the prediction in the training model\n",
    "#y values are the actual time that will be used in determining the error\n",
    "#of the prediction\n",
    "\n",
    "numtimes =int(input(\"Enter the number of race results you want to use for your prediction \"))\n"
   ]
  },
  {
   "cell_type": "code",
   "execution_count": 10,
   "metadata": {},
   "outputs": [
    {
     "data": {
      "text/plain": [
       "array([[ 1341.  ,  1338.  ],\n",
       "       [ 1338.  ,  1283.  ],\n",
       "       [ 1283.  ,  1174.5 ],\n",
       "       [ 1174.5 ,  1261.5 ],\n",
       "       [ 1261.5 ,  1164.  ],\n",
       "       [ 1164.  ,  1209.  ],\n",
       "       [ 1209.  ,  1171.  ],\n",
       "       [ 1171.  ,  1161.  ],\n",
       "       [ 1161.  ,  1158.12],\n",
       "       [ 1158.12,  1146.  ],\n",
       "       [ 1146.  ,  1131.38],\n",
       "       [ 1131.38,  1176.  ],\n",
       "       [ 1176.  ,  1194.  ],\n",
       "       [ 1194.  ,  1228.  ],\n",
       "       [ 1228.  ,  1173.9 ],\n",
       "       [ 1173.9 ,  1208.  ],\n",
       "       [ 1208.  ,  1171.  ],\n",
       "       [ 1171.  ,  1227.  ],\n",
       "       [ 1227.  ,  1184.  ],\n",
       "       [ 1184.  ,  1108.  ],\n",
       "       [ 1108.  ,  1187.5 ],\n",
       "       [ 1187.5 ,  1085.  ],\n",
       "       [ 1085.  ,  1106.03]])"
      ]
     },
     "execution_count": 10,
     "metadata": {},
     "output_type": "execute_result"
    }
   ],
   "source": [
    "data.head()\n",
    "\n",
    "x_data = []\n",
    "y_data = []\n",
    "\n",
    "# Creates a feature matrix with values from previous 2 races\n",
    "#for d in range(2,data.shape[0]):\n",
    "#    x = data.iloc[d-2:d,1].values.ravel()\n",
    "#    y = data.iloc[d].values[1]\n",
    "#    x_data.append(x)\n",
    "#    y_data.append(y)\n",
    "for d in range(numtimes,data.shape[0]):\n",
    "    x = data.iloc[d-numtimes:d,1].values.ravel()\n",
    "    y = data.iloc[d].values[1]\n",
    "    x_data.append(x)\n",
    "    y_data.append(y)\n",
    "\n",
    "x_data = np.array(x_data)\n",
    "y_data = np.array(y_data)\n",
    "x_data"
   ]
  },
  {
   "cell_type": "code",
   "execution_count": 11,
   "metadata": {},
   "outputs": [
    {
     "data": {
      "text/plain": [
       "array([ 1283.  ,  1174.5 ,  1261.5 ,  1164.  ,  1209.  ,  1171.  ,\n",
       "        1161.  ,  1158.12,  1146.  ,  1131.38,  1176.  ,  1194.  ,\n",
       "        1228.  ,  1173.9 ,  1208.  ,  1171.  ,  1227.  ,  1184.  ,\n",
       "        1108.  ,  1187.5 ,  1085.  ,  1106.03,  1172.5 ])"
      ]
     },
     "execution_count": 11,
     "metadata": {},
     "output_type": "execute_result"
    }
   ],
   "source": [
    "#the actual times that are used in calculating the\n",
    "#accuracy of the model - for example with 2 feature (time) windows\n",
    "#the 3rd is the first prediction\n",
    "y_data"
   ]
  },
  {
   "cell_type": "code",
   "execution_count": 12,
   "metadata": {},
   "outputs": [
    {
     "name": "stdout",
     "output_type": "stream",
     "text": [
      "\n",
      "Mean Absolute Percentage Error\n",
      "MAPE Linear Regression 10.965157012\n",
      "MAPE Last Value Benchmark 3.95850442677\n",
      "MAPE Moving Average Benchmark 2.96455025926\n",
      "\n",
      "Mean Absolute Error\n",
      "MAE Linear Regression 131.736477399\n",
      "MAE Last Value Benchmark 46.3542857143\n",
      "MAE Moving Average Benchmark 34.4426190476\n"
     ]
    }
   ],
   "source": [
    "#Lists to store the predictions of the models\n",
    "y_pred = []\n",
    "y_pred_last = []\n",
    "y_pred_ma = []\n",
    "y_true = []\n",
    "\n",
    "\n",
    "\n",
    "#Iterate over the time series creating a new model each month\n",
    "end = y_data.shape[0]\n",
    "#altered range from length to numtimes here\n",
    "for i in range(numtimes,end):\n",
    "\n",
    "    x_train = x_data[:i,:]\n",
    "    y_train = y_data[:i]\n",
    "    \n",
    "    x_test = x_data[i,:]\n",
    "    y_test = y_data[i]\n",
    "\n",
    "\n",
    "    model = LinearRegression(normalize=True)\n",
    "    model.fit(x_train,y_train)\n",
    "\n",
    "    y_pred.append(model.predict(x_test.reshape(1, -1))[0])\n",
    "    y_pred_last.append(x_test[-1])\n",
    "    y_pred_ma.append(x_test.mean())\n",
    "    y_true.append(y_test)\n",
    "\n",
    "\n",
    "#Transforms the lists into numpy arrays\n",
    "y_pred = np.array(y_pred)\n",
    "y_pred_last = np.array(y_pred_last)\n",
    "y_pred_ma = np.array(y_pred_ma)\n",
    "y_true = np.array(y_true)\n",
    "\n",
    "\n",
    "#Print errors\n",
    "print ('\\nMean Absolute Percentage Error')\n",
    "print ('MAPE Linear Regression', mape(y_pred,y_true))\n",
    "print ('MAPE Last Value Benchmark', mape(y_pred_last,y_true))\n",
    "print ('MAPE Moving Average Benchmark', mape(y_pred_ma,y_true))\n",
    "\n",
    "\n",
    "print ('\\nMean Absolute Error')\n",
    "print ('MAE Linear Regression', mean_absolute_error(y_pred,y_true))\n",
    "print ('MAE Last Value Benchmark', mean_absolute_error(y_pred_last,y_true))\n",
    "print ('MAE Moving Average Benchmark', mean_absolute_error(y_pred_ma,y_true))\n",
    "\n"
   ]
  },
  {
   "cell_type": "markdown",
   "metadata": {},
   "source": [
    "<h3>\n",
    "\n",
    "All of these are loss functions, because we want to minimize them.</h3>\n",
    "<p>Next we will see the intercept and the coefficients of the linear regression equation</p>"
   ]
  },
  {
   "cell_type": "code",
   "execution_count": 14,
   "metadata": {},
   "outputs": [
    {
     "name": "stdout",
     "output_type": "stream",
     "text": [
      "The linear equation intercept is \n",
      "570.198115926\n",
      "The coefficients are \n",
      "[ 0.38959149  0.11782575]\n"
     ]
    }
   ],
   "source": [
    "#to get the parameters for the equation - returned in the form of an array\n",
    "#Note that this is a linear equation, so to get the prediction for yourself, \n",
    "#you want to form an equation such that your prediction, \n",
    "#y = sum([input[i] * params[i]])\n",
    "#params = model.coef_ and model.intercept\n",
    "print (\"The linear equation intercept is \")\n",
    "print (model.intercept_)\n",
    "print (\"The coefficients are \")\n",
    "print (model.coef_)"
   ]
  },
  {
   "cell_type": "code",
   "execution_count": 15,
   "metadata": {},
   "outputs": [
    {
     "data": {
      "image/png": "[encoded data removed]",
      "text/plain": [
       "<matplotlib.figure.Figure at 0x1cec885d358>"
      ]
     },
     "metadata": {},
     "output_type": "display_data"
    }
   ],
   "source": [
    "#print chart\n",
    "from matplotlib import pyplot as plt\n",
    "plt.title('Runner Times for XC')\n",
    "plt.ylabel('Time in Sec')\n",
    "plt.xlabel(u'Periods (Meets)')\n",
    "true_val, = plt.plot(y_true,color='g', label='True Values')\n",
    "reg_val, = plt.plot(y_pred,color='b',label=u'Linear Regression')\n",
    "plt.xlim([0,row_count])\n",
    "plt.legend(handles=[true_val,reg_val])\n",
    "plt.show()"
   ]
  },
  {
   "cell_type": "markdown",
   "metadata": {},
   "source": [
    "<h3>Let's try a new prediction</h3>"
   ]
  },
  {
   "cell_type": "code",
   "execution_count": 13,
   "metadata": {},
   "outputs": [
    {
     "name": "stdout",
     "output_type": "stream",
     "text": [
      "The last2times for galen\n",
      "Enter the time in seconds with no decimals and press enter  978\n",
      "Enter the time in seconds with no decimals and press enter  974\n",
      "Your time for your next race is estimated to be \n",
      "[ 1186.28791413]\n",
      " seconds\n"
     ]
    }
   ],
   "source": [
    "### New Prediction ###\n",
    "\n",
    "# predict for a new observation, this uses a two cell floating window\n",
    "time=[]\n",
    "#displayStr=\"The last\"+str(numtimes)+\"times for \"+first_name\n",
    "print(\"The last \"+str(numtimes)+\" times for \"+first_name)\n",
    "for i in range(0,numtimes):\n",
    "    time.append(int(input(\"Enter the time in seconds with no decimals and press enter  \")))\n",
    "#time1 =int(input(\"enter the first time in seconds with no decimals and press enter  \"))\n",
    "#time2 =int(input(\"enter the first time in seconds with no decimals and press enter  \"))\n",
    "#time3 = int(input(\"enter the first time in seconds with no decimals and press enter  \"))\n",
    "\n",
    "#new_X = np.array([time1, time2])\n",
    "new_X=np.array(time)\n",
    "new_prediction = model.predict(new_X.reshape(1, -1))\n",
    "print (\"Your time for your next race is estimated to be \")\n",
    "print (new_prediction)\n",
    "print (\" seconds\")"
   ]
  },
  {
   "cell_type": "markdown",
   "metadata": {},
   "source": [
    "\n",
    "<h3>Comparing linear regression with other models</h3>\n",
    "\n",
    "<p>Advantages of linear regression:<br>\n",
    "<ul><li>\n",
    "    Simple to explain\n",
    "    <li>Highly interpretable\n",
    "    <li>Model training and prediction are fast\n",
    "    <li>No tuning is required (excluding regularization)\n",
    "    <li>Features don't need scaling\n",
    "    <li>Can perform well with a small number of observations which we have when inputting one runner at a time</ul>\n",
    "\n",
    "</p><p>Disadvantages of linear regression:<br>\n",
    "<ul><li>\n",
    "    Presumes a linear relationship between the features and the response\n",
    "    <li>Performance is (generally) not competitive with the best supervised learning methods due to high bias\n",
    "   <li> Sensitive to irrelevant features - we are only use time in this simple model\n",
    "   <li> Can't automatically learn feature interactions</u></p>\n",
    "\n"
   ]
  },
  {
   "cell_type": "markdown",
   "metadata": {
    "collapsed": true
   },
   "source": [
    "<p>References:</p>\n",
    "<p><a href=\"http://scikit-learn.org/stable/auto_examples/linear_model/plot_ols.html#sphx-glr-auto-examples-linear-model-plot-ols-py\">Scikit-Learn</a></p>\n",
    "<p><a href=\"http://machinelearningmastery.com/basic-feature-engineering-time-series-data-python/\">Machine Learning Mastery</a>\n",
    "</p>"
   ]
  },
  {
   "cell_type": "code",
   "execution_count": null,
   "metadata": {
    "collapsed": true
   },
   "outputs": [],
   "source": []
  }
 ],
 "metadata": {
  "kernelspec": {
   "display_name": "Python 3",
   "language": "python",
   "name": "python3"
  },
  "language_info": {
   "codemirror_mode": {
    "name": "ipython",
    "version": 3
   },
   "file_extension": ".py",
   "mimetype": "text/x-python",
   "name": "python",
   "nbconvert_exporter": "python",
   "pygments_lexer": "ipython3",
   "version": "3.6.1"
  }
 },
 "nbformat": 4,
 "nbformat_minor": 2
}
